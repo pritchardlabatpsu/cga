{
 "cells": [
  {
   "cell_type": "code",
   "execution_count": 25,
   "metadata": {},
   "outputs": [],
   "source": [
    "from ceres_infer.data import preprocessData"
   ]
  },
  {
   "cell_type": "code",
   "execution_count": 26,
   "metadata": {},
   "outputs": [
    {
     "name": "stdout",
     "output_type": "stream",
     "text": [
      "start data_19Q3 preprocessing...\n",
      "loading rna-seq...\n",
      "loading copy number...\n",
      "loading mutations...\n",
      "loading sample_info...\n",
      "loading Achilles gene effect...\n",
      "processing CERES...\n",
      "There are 43 cell lines out of 625 that will be dropped, due to missing data\n",
      "processing rna-seq...\n",
      "processing copy number...\n",
      "processing mutations...\n",
      "processing sample_info...\n",
      "finalizing processing...\n",
      "filtering: keep only shared samples...\n",
      "filtering: baseline feature pruning...\n",
      "start data_19Q3 preprocessing...\n",
      "loading rna-seq...\n",
      "loading copy number...\n",
      "loading mutations...\n"
     ]
    },
    {
     "name": "stderr",
     "output_type": "stream",
     "text": [
      "/storage/home/yur97/anaconda3/envs/cnp/lib/python3.7/site-packages/IPython/core/interactiveshell.py:3417: DtypeWarning: Columns (3,19,25,26,27,28,29,30,31) have mixed types.Specify dtype option on import or set low_memory=False.\n",
      "  exec(code_obj, self.user_global_ns, self.user_ns)\n"
     ]
    },
    {
     "name": "stdout",
     "output_type": "stream",
     "text": [
      "loading sample_info...\n",
      "loading Achilles gene effect...\n",
      "processing CERES...\n",
      "There are 43 cell lines out of 625 that will be dropped, due to missing data\n",
      "processing rna-seq...\n",
      "processing copy number...\n",
      "processing mutations...\n",
      "processing sample_info...\n",
      "finalizing processing...\n",
      "data_pc9\n",
      "start data_pc9 preprocessing...\n",
      "loading rna-seq...\n",
      "loading copy number...\n",
      "loading mutations...\n"
     ]
    },
    {
     "name": "stderr",
     "output_type": "stream",
     "text": [
      "/storage/home/yur97/anaconda3/envs/cnp/lib/python3.7/site-packages/IPython/core/interactiveshell.py:3417: DtypeWarning: Columns (3,19,25,26,27,28,29,30,31) have mixed types.Specify dtype option on import or set low_memory=False.\n",
      "  exec(code_obj, self.user_global_ns, self.user_ns)\n"
     ]
    },
    {
     "name": "stdout",
     "output_type": "stream",
     "text": [
      "loading sample_info...\n",
      "loading Achilles gene effect...\n",
      "processing CERES...\n",
      "processing rna-seq...\n",
      "processing copy number...\n",
      "processing mutations...\n",
      "processing sample_info...\n",
      "finalizing processing...\n",
      "filtering: keep only shared samples...\n",
      "data_pc9\n",
      "dropping PC9 in 19Q3...\n"
     ]
    }
   ],
   "source": [
    "# Preprocess data for gene effect (continuous)\n",
    "ext_data = {'dir_datasets': '../data/DepMap/19Q3',\n",
    "\t\t\t'dir_ceres_datasets': '../data/ceres_external/PC9_corrected',\n",
    "\t\t\t'data_name': 'data_pc9',\n",
    "\t\t\t'fname_gene_effect': 'gene_effect.csv',\n",
    "\t\t\t'fname_gene_dependency': None,\n",
    "\t\t\t'out_name': 'dm_data_pc9',\n",
    "\t\t\t'out_match_name': 'dm_data_match_pc9'}\n",
    "\n",
    "preprocessData(useGene_dependency = False,\n",
    "               dir_out = '../out/21.0423 proc_data PC9/gene_effect/',\n",
    "               dir_depmap = '../data/DepMap/',\n",
    "               ext_data = ext_data)"
   ]
  }
 ],
 "metadata": {
  "kernelspec": {
   "display_name": "Python 3",
   "language": "python",
   "name": "python3"
  },
  "language_info": {
   "codemirror_mode": {
    "name": "ipython",
    "version": 3
   },
   "file_extension": ".py",
   "mimetype": "text/x-python",
   "name": "python",
   "nbconvert_exporter": "python",
   "pygments_lexer": "ipython3",
   "version": "3.7.9"
  },
  "toc": {
   "base_numbering": 1,
   "nav_menu": {},
   "number_sections": true,
   "sideBar": true,
   "skip_h1_title": false,
   "title_cell": "Table of Contents",
   "title_sidebar": "Contents",
   "toc_cell": false,
   "toc_position": {},
   "toc_section_display": true,
   "toc_window_display": true
  }
 },
 "nbformat": 4,
 "nbformat_minor": 4
}
